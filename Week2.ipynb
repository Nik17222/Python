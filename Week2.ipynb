{
 "cells": [
  {
   "cell_type": "code",
   "execution_count": 1,
   "id": "03fc5f43-c496-4bf2-8abe-682882c30706",
   "metadata": {},
   "outputs": [
    {
     "name": "stdout",
     "output_type": "stream",
     "text": [
      "Please enter a sentence or paragraph:\n"
     ]
    },
    {
     "name": "stdin",
     "output_type": "stream",
     "text": [
      " This is a testing sentence\n"
     ]
    },
    {
     "name": "stdout",
     "output_type": "stream",
     "text": [
      "Word count: 5\n"
     ]
    }
   ],
   "source": [
    "\n",
    "def count_words(text):\n",
    "    words = text.split()\n",
    "    \n",
    "    # Return count of words\n",
    "    return len(words)\n",
    "\n",
    "def main():\n",
    "    print(\"Please enter a sentence or paragraph:\")\n",
    "    user_input = input()\n",
    "    \n",
    "    # Check if input is empty\n",
    "    if not user_input.strip():\n",
    "        print(\"Error: Input is empty. Please enter some text.\")\n",
    "        return\n",
    "    \n",
    "    word_count = count_words(user_input)\n",
    "    \n",
    "    # Display word count\n",
    "    print(\"Word count:\", word_count)\n",
    "\n",
    "if __name__ == \"__main__\":\n",
    "    main()"
   ]
  }
 ],
 "metadata": {
  "kernelspec": {
   "display_name": "Python 3 (ipykernel)",
   "language": "python",
   "name": "python3"
  },
  "language_info": {
   "codemirror_mode": {
    "name": "ipython",
    "version": 3
   },
   "file_extension": ".py",
   "mimetype": "text/x-python",
   "name": "python",
   "nbconvert_exporter": "python",
   "pygments_lexer": "ipython3",
   "version": "3.9.12"
  }
 },
 "nbformat": 4,
 "nbformat_minor": 5
}
